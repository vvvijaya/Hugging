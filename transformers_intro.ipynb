{
 "cells": [
  {
   "attachments": {},
   "cell_type": "markdown",
   "metadata": {},
   "source": [
    "The most basic object in the 🤗 Transformers library is the pipeline() function. It connects a model with its necessary preprocessing and postprocessing steps, allowing us to directly input any text and get an intelligible answer:"
   ]
  },
  {
   "cell_type": "code",
   "execution_count": null,
   "metadata": {},
   "outputs": [],
   "source": [
    "from transformers import pipeline\n",
    "\n",
    "classifier = pipeline(\"sentiment-analysis\")\n",
    "classifier(\"I've been waiting for a HuggingFace course my whole life.\")"
   ]
  },
  {
   "attachments": {},
   "cell_type": "markdown",
   "metadata": {},
   "source": [
    "There are three main steps involved when you pass some text to a pipeline:\n",
    "\n",
    "The text is preprocessed into a format the model can understand.\n",
    "The preprocessed inputs are passed to the model.\n",
    "The predictions of the model are post-processed, so you can make sense of them.\n",
    "Some of the currently available pipelines are:\n",
    "\n",
    "feature-extraction (get the vector representation of a text)\n",
    "fill-mask\n",
    "ner (named entity recognition)\n",
    "question-answering\n",
    "sentiment-analysis\n",
    "summarization\n",
    "text-generation\n",
    "translation\n",
    "zero-shot-classification"
   ]
  }
 ],
 "metadata": {
  "kernelspec": {
   "display_name": "hugging",
   "language": "python",
   "name": "python3"
  },
  "language_info": {
   "name": "python",
   "version": "3.11.3"
  },
  "orig_nbformat": 4
 },
 "nbformat": 4,
 "nbformat_minor": 2
}
